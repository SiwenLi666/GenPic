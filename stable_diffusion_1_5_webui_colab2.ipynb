{
  "cells": [
    {
      "cell_type": "markdown",
      "metadata": {
        "id": "view-in-github",
        "colab_type": "text"
      },
      "source": [
        "<a href=\"https://colab.research.google.com/github/SiwenLi666/GenPic/blob/main/stable_diffusion_1_5_webui_colab2.ipynb\" target=\"_parent\"><img src=\"https://colab.research.google.com/assets/colab-badge.svg\" alt=\"Open In Colab\"/></a>"
      ]
    },
    {
      "cell_type": "code",
      "source": [
        "!nvidia-smi\n"
      ],
      "metadata": {
        "id": "aX0PCnylCjJ-"
      },
      "execution_count": null,
      "outputs": []
    },
    {
      "cell_type": "code",
      "source": [
        "# ✅ 1. 挂载 Google Drive\n",
        "from google.colab import drive\n",
        "drive.mount('/content/drive')\n",
        "\n",
        "# ✅ 2. 设置你自己的安装路径（只改这一行）\n",
        "install_path = \"/content/drive/MyDrive/AI-projekt/GenPic/sd-webui\"\n",
        "\n",
        "# ✅ 3. 克隆 WebUI（第一次运行）\n",
        "!git clone https://github.com/AUTOMATIC1111/stable-diffusion-webui {install_path}\n",
        "\n",
        "# ✅ 4. 安装插件（只挑选你真正要用的）\n",
        "%cd {install_path}/extensions\n",
        "\n",
        "!git clone https://github.com/continue-revolution/sd-webui-animatediff\n",
        "!git clone https://github.com/Mikubill/sd-webui-controlnet\n",
        "!git clone https://github.com/Bing-su/sd-webui-ip-adapter\n",
        "!git clone https://github.com/hnmr293/ip-detailer\n",
        "\n",
        "# ✅ 5. 下载模型（第一次执行即可）\n",
        "!aria2c -x 16 -s 16 https://civitai.com/api/download/models/29460 -d {install_path}/models/Stable-diffusion -o RealisticVisionV51.safetensors\n",
        "!aria2c -x 16 https://huggingface.co/mcinerney/AnimateDiff/resolve/main/mm_sd_v15_v2.ckpt -d {install_path}/extensions/sd-webui-animatediff/model -o mm_sd_v15_v2.ckpt\n",
        "!aria2c -x 16 https://huggingface.co/h94/IP-Adapter/resolve/main/models/ip-adapter-plus_sd15.safetensors -d {install_path}/extensions/sd-webui-controlnet/models -o ip-adapter-plus_sd15.safetensors\n",
        "\n",
        "# ✅ 6. 启动 SD WebUI\n",
        "%cd {install_path}\n",
        "!COMMANDLINE_ARGS=\"--share --xformers\" python launch.py\n"
      ],
      "metadata": {
        "id": "zZbueUpRMAIN"
      },
      "execution_count": null,
      "outputs": []
    },
    {
      "cell_type": "code",
      "execution_count": null,
      "metadata": {
        "id": "SaAJk33ppFw1"
      },
      "outputs": [],
      "source": []
    },
    {
      "cell_type": "code",
      "source": [
        "\n"
      ],
      "metadata": {
        "id": "NPseleM3lsCs"
      },
      "execution_count": null,
      "outputs": []
    }
  ],
  "metadata": {
    "accelerator": "GPU",
    "colab": {
      "private_outputs": true,
      "provenance": [],
      "gpuType": "T4",
      "include_colab_link": true
    },
    "kernelspec": {
      "display_name": "Python 3",
      "name": "python3"
    },
    "language_info": {
      "name": "python"
    }
  },
  "nbformat": 4,
  "nbformat_minor": 0
}